{
 "cells": [
  {
   "cell_type": "markdown",
   "id": "860cc472",
   "metadata": {},
   "source": [
    "## PIL Example From Corey M Schafer video\n",
    "### https://www.youtube.com/watch?v=6Qs3wObeWwc\n"
   ]
  },
  {
   "cell_type": "code",
   "execution_count": 1,
   "id": "a13a3cde",
   "metadata": {},
   "outputs": [],
   "source": [
    "from PIL import Image"
   ]
  },
  {
   "cell_type": "code",
   "execution_count": 2,
   "id": "412fea6d",
   "metadata": {},
   "outputs": [],
   "source": [
    "image1 = Image.open(\"puppy1.jpeg\")"
   ]
  },
  {
   "cell_type": "code",
   "execution_count": 3,
   "id": "d89c387a",
   "metadata": {},
   "outputs": [],
   "source": [
    "image1.show()"
   ]
  },
  {
   "cell_type": "code",
   "execution_count": 4,
   "id": "76a0835b",
   "metadata": {},
   "outputs": [],
   "source": [
    "image1.save(\"Puppy1.png\")"
   ]
  },
  {
   "cell_type": "code",
   "execution_count": 5,
   "id": "de1c2ddd",
   "metadata": {},
   "outputs": [
    {
     "name": "stdout",
     "output_type": "stream",
     "text": [
      "PIL_example.ipynb \u001b[34mpng\u001b[m\u001b[m               puppy2.jpeg\r\n",
      "Puppy1.png        puppy1.jpeg       puppy3.jpeg\r\n"
     ]
    }
   ],
   "source": [
    "!ls"
   ]
  },
  {
   "cell_type": "markdown",
   "id": "38c2d599",
   "metadata": {},
   "source": [
    "### Create PNG folder, convert all *.jpeg files to *.png"
   ]
  },
  {
   "cell_type": "code",
   "execution_count": 6,
   "id": "7fa34588",
   "metadata": {},
   "outputs": [
    {
     "name": "stdout",
     "output_type": "stream",
     "text": [
      "JPEG files are: puppy1\n",
      "JPEG files are: puppy2\n",
      "JPEG files are: puppy3\n"
     ]
    }
   ],
   "source": [
    "from PIL import Image\n",
    "import os\n",
    "\n",
    "for f in os.listdir(\".\"):\n",
    "#  print(f\"file name is {f}\")\n",
    "   if f.endswith(\"jpeg\"):\n",
    "        file_name, file_extension = os.path.splitext(f)\n",
    "        print(f\"JPEG files are: {file_name}\")\n",
    "        i = Image.open(f)\n",
    "        i.save(\"png/{}.png\".format(file_name))"
   ]
  },
  {
   "cell_type": "code",
   "execution_count": null,
   "id": "8856a385",
   "metadata": {},
   "outputs": [],
   "source": []
  }
 ],
 "metadata": {
  "kernelspec": {
   "display_name": "Python 3.9 (pytorch)",
   "language": "python",
   "name": "pytorch"
  },
  "language_info": {
   "codemirror_mode": {
    "name": "ipython",
    "version": 3
   },
   "file_extension": ".py",
   "mimetype": "text/x-python",
   "name": "python",
   "nbconvert_exporter": "python",
   "pygments_lexer": "ipython3",
   "version": "3.9.15"
  }
 },
 "nbformat": 4,
 "nbformat_minor": 5
}
